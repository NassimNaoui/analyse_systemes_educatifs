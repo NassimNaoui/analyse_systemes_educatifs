{
 "cells": [
  {
   "cell_type": "markdown",
   "id": "e9fba6d2",
   "metadata": {},
   "source": [
    "# 📊📚 Analysez des données de systèmes éducatifs"
   ]
  },
  {
   "cell_type": "markdown",
   "id": "57b74502",
   "metadata": {},
   "source": [
    "## Sommaire\n",
    "[Introduction](#Introduction)  \n",
    "\n",
    "[1. Librairies et chargement des data](#1.-Librairies-et-chargement-des-data)\n",
    "- [a. Librairies importées](#a.-Librairies-importées)\n",
    "- [b. Chargement des fichiers CSV](#b.-Chargement-des-fichiers-CSV)\n",
    "\n",
    "[2. Nettoyage des dataframes](#2.-Nettoyage-des-dataframes)\n",
    "- [a. Création du log df](#a.-Création-du-log-df)\n",
    "- [b. Suppression des colonnes avec na_rate = 1](#b.-Suppression-des-colonnes-avec-na_rate-=-1)\n",
    "- [c. Suppression des faux pays](#c.-Suppression-des-faux-pays)"
   ]
  },
  {
   "cell_type": "markdown",
   "id": "ed372268",
   "metadata": {},
   "source": [
    "## Introduction"
   ]
  },
  {
   "cell_type": "markdown",
   "id": "6345236d",
   "metadata": {},
   "source": [
    "Academy est une plateforme d'éducation en ligne pour les étudiants du niveau lycée et université.\n",
    "La start-up qui a développé la plateforme souhaite l'étendre à un niveau internationnal. \n",
    "\n",
    "Pour ce faire, il faut dans un premier temps **s'assurer que les données récoltées de la banque mondiale sont exploitables** pour enrichir la réflexion. \n",
    "Puis, dans un second temps, **identifier les pays cibles avec un fort potentiel** et voir leur évolution dans le temps."
   ]
  },
  {
   "cell_type": "markdown",
   "id": "b9aaceea",
   "metadata": {},
   "source": [
    "### 1. Librairies et chargement des data"
   ]
  },
  {
   "cell_type": "markdown",
   "id": "9d0068fe",
   "metadata": {},
   "source": [
    "#### a. Librairies importées"
   ]
  },
  {
   "cell_type": "code",
   "execution_count": 3,
   "id": "c75628dd",
   "metadata": {},
   "outputs": [],
   "source": [
    "import pandas as pd\n",
    "import numpy as np\n",
    "import ipywidgets as widgets\n",
    "from IPython.display import display"
   ]
  },
  {
   "cell_type": "markdown",
   "id": "9b356c09",
   "metadata": {},
   "source": [
    "#### b. Chargement des fichiers CSV"
   ]
  },
  {
   "cell_type": "code",
   "execution_count": 4,
   "id": "527fa433",
   "metadata": {},
   "outputs": [],
   "source": [
    "df_data = pd.read_csv('../dataset/EdStatsData.csv')\n",
    "df_country_series = pd.read_csv('../dataset/EdStatsCountry-Series.csv')\n",
    "df_country = pd.read_csv('../dataset/EdStatsCountry.csv')\n",
    "df_foot_note = pd.read_csv('../dataset/EdStatsFootNote.csv')\n",
    "df_stats_series = pd.read_csv('../dataset/EdStatsSeries.csv')"
   ]
  },
  {
   "cell_type": "markdown",
   "id": "326490fc",
   "metadata": {},
   "source": [
    "###### Description des DF\n",
    "\n",
    "**df_data** : Ensemble des indicateurs par pays et par années (1970 à 2100). Chaque ligne représente le couple pays/indicateurs.\n",
    "\n",
    "**df_country** : Liste d'informations complémentaires concernant les pays. Chaque ligne correspond à un pays.\n",
    "\n",
    "**df_country_series** : Indicateurs démographiques et économiques par année et par pays présents dans df_data. Chaque ligne repésente le couples pays/indicateurs/années.\n",
    "\n",
    "**df_stats_series** : Lexique des indicateurs. Chaque lique correspond à un indicateur.\n",
    "\n",
    "**df_foot_note** : Informations additionnelles sur les indicateurs basées sur l'année, le type d'indicateur et le pays dans df_data."
   ]
  },
  {
   "cell_type": "code",
   "execution_count": 5,
   "id": "d4953070",
   "metadata": {},
   "outputs": [],
   "source": [
    "#add widget to display df.head(5)"
   ]
  },
  {
   "cell_type": "markdown",
   "id": "57bf4e72",
   "metadata": {},
   "source": [
    "### 2. Nettoyage des dataframes"
   ]
  },
  {
   "cell_type": "markdown",
   "id": "d2807d95",
   "metadata": {},
   "source": [
    "#### a. Création du log df "
   ]
  },
  {
   "cell_type": "code",
   "execution_count": 6,
   "id": "4b177804",
   "metadata": {},
   "outputs": [],
   "source": [
    "#Log df infos\n",
    "dic = {\"df_data\" : df_data, \"df_country\":df_country, \"df_country_series\" : df_country_series, \n",
    "           \"df_foot_note\" : df_foot_note, \"df_stats_series\" : df_stats_series}\n",
    "\n",
    "\n",
    "cat_log = ['shape','duplicated_rows','na_rate', 'stats','nunique_cat']\n",
    "\n",
    "obj_log = {\n",
    "    'log_cat': cat_log,\n",
    "    \"df_data\": [None] * len(cat_log),\n",
    "    \"df_country\": [None] * len(cat_log),\n",
    "    \"df_country_series\": [None] * len(cat_log),\n",
    "    \"df_foot_note\": [None] * len(cat_log),\n",
    "    \"df_stats_series\": [None] * len(cat_log)\n",
    "}\n",
    "\n",
    "df_log = pd.DataFrame(obj_log)"
   ]
  },
  {
   "cell_type": "code",
   "execution_count": 7,
   "id": "68c26c35",
   "metadata": {},
   "outputs": [],
   "source": [
    "dic_keys = list(dic.keys())\n",
    "\n",
    "for df_name in dic_keys:\n",
    "    \n",
    "    #Shape\n",
    "    shape_value = dic[df_name].shape\n",
    "    df_log.loc[df_log['log_cat'] == 'shape', df_name] = [shape_value]\n",
    "    \n",
    "    #duplicated_rows\n",
    "    duplicates = dic[df_name].duplicated().sum()\n",
    "    df_log.loc[df_log['log_cat'] == 'duplicated_rows', df_name] = [duplicates]\n",
    "    \n",
    "    #na_rate\n",
    "    na_rate = round(dic[df_name].isna().sum() / len(dic[df_name]),2)\n",
    "    df_log.loc[df_log['log_cat'] == 'na_rate', df_name] = [na_rate]\n",
    "    \n",
    "    #stats df.describe(include=[np.number])\n",
    "    stats_report = dic[df_name].describe(include=[np.number])\n",
    "    df_log.loc[df_log['log_cat'] == 'stats', df_name] = [stats_report]\n",
    "    \n",
    "    #Nb uniques categories df_obj = df.select_dtypes(include='object')\n",
    "    unique_categories = dic[df_name].select_dtypes(include='object').nunique()\n",
    "    df_log.loc[df_log['log_cat'] == 'nunique_cat', df_name] = [unique_categories]"
   ]
  },
  {
   "cell_type": "code",
   "execution_count": 8,
   "id": "9baccdcf",
   "metadata": {},
   "outputs": [
    {
     "data": {
      "text/html": [
       "<div>\n",
       "<style scoped>\n",
       "    .dataframe tbody tr th:only-of-type {\n",
       "        vertical-align: middle;\n",
       "    }\n",
       "\n",
       "    .dataframe tbody tr th {\n",
       "        vertical-align: top;\n",
       "    }\n",
       "\n",
       "    .dataframe thead th {\n",
       "        text-align: right;\n",
       "    }\n",
       "</style>\n",
       "<table border=\"1\" class=\"dataframe\">\n",
       "  <thead>\n",
       "    <tr style=\"text-align: right;\">\n",
       "      <th></th>\n",
       "      <th>log_cat</th>\n",
       "      <th>df_data</th>\n",
       "      <th>df_country</th>\n",
       "      <th>df_country_series</th>\n",
       "      <th>df_foot_note</th>\n",
       "      <th>df_stats_series</th>\n",
       "    </tr>\n",
       "  </thead>\n",
       "  <tbody>\n",
       "    <tr>\n",
       "      <th>0</th>\n",
       "      <td>shape</td>\n",
       "      <td>(886930, 70)</td>\n",
       "      <td>(241, 32)</td>\n",
       "      <td>(613, 4)</td>\n",
       "      <td>(643638, 5)</td>\n",
       "      <td>(3665, 21)</td>\n",
       "    </tr>\n",
       "    <tr>\n",
       "      <th>1</th>\n",
       "      <td>duplicated_rows</td>\n",
       "      <td>0</td>\n",
       "      <td>0</td>\n",
       "      <td>0</td>\n",
       "      <td>0</td>\n",
       "      <td>0</td>\n",
       "    </tr>\n",
       "    <tr>\n",
       "      <th>2</th>\n",
       "      <td>na_rate</td>\n",
       "      <td>Country Name      0.00\n",
       "Country Code      0.00\n",
       "...</td>\n",
       "      <td>Country Code                                  ...</td>\n",
       "      <td>CountryCode    0.0\n",
       "SeriesCode     0.0\n",
       "DESCRIPT...</td>\n",
       "      <td>CountryCode    0.0\n",
       "SeriesCode     0.0\n",
       "Year    ...</td>\n",
       "      <td>Series Code                            0.00\n",
       "To...</td>\n",
       "    </tr>\n",
       "    <tr>\n",
       "      <th>3</th>\n",
       "      <td>stats</td>\n",
       "      <td>1970          1971          197...</td>\n",
       "      <td>National accounts reference year  Lates...</td>\n",
       "      <td>Unnamed: 3\n",
       "count         0.0\n",
       "mean      ...</td>\n",
       "      <td>Unnamed: 4\n",
       "count         0.0\n",
       "mean      ...</td>\n",
       "      <td>Unit of measure  Notes from original so...</td>\n",
       "    </tr>\n",
       "    <tr>\n",
       "      <th>4</th>\n",
       "      <td>nunique_cat</td>\n",
       "      <td>Country Name       242\n",
       "Country Code       242\n",
       "...</td>\n",
       "      <td>Country Code                                  ...</td>\n",
       "      <td>CountryCode    211\n",
       "SeriesCode      21\n",
       "DESCRIPT...</td>\n",
       "      <td>CountryCode     239\n",
       "SeriesCode     1558\n",
       "Year  ...</td>\n",
       "      <td>Series Code                            3665\n",
       "To...</td>\n",
       "    </tr>\n",
       "  </tbody>\n",
       "</table>\n",
       "</div>"
      ],
      "text/plain": [
       "           log_cat                                            df_data  \\\n",
       "0            shape                                       (886930, 70)   \n",
       "1  duplicated_rows                                                  0   \n",
       "2          na_rate  Country Name      0.00\n",
       "Country Code      0.00\n",
       "...   \n",
       "3            stats                 1970          1971          197...   \n",
       "4      nunique_cat  Country Name       242\n",
       "Country Code       242\n",
       "...   \n",
       "\n",
       "                                          df_country  \\\n",
       "0                                          (241, 32)   \n",
       "1                                                  0   \n",
       "2  Country Code                                  ...   \n",
       "3         National accounts reference year  Lates...   \n",
       "4  Country Code                                  ...   \n",
       "\n",
       "                                   df_country_series  \\\n",
       "0                                           (613, 4)   \n",
       "1                                                  0   \n",
       "2  CountryCode    0.0\n",
       "SeriesCode     0.0\n",
       "DESCRIPT...   \n",
       "3         Unnamed: 3\n",
       "count         0.0\n",
       "mean      ...   \n",
       "4  CountryCode    211\n",
       "SeriesCode      21\n",
       "DESCRIPT...   \n",
       "\n",
       "                                        df_foot_note  \\\n",
       "0                                        (643638, 5)   \n",
       "1                                                  0   \n",
       "2  CountryCode    0.0\n",
       "SeriesCode     0.0\n",
       "Year    ...   \n",
       "3         Unnamed: 4\n",
       "count         0.0\n",
       "mean      ...   \n",
       "4  CountryCode     239\n",
       "SeriesCode     1558\n",
       "Year  ...   \n",
       "\n",
       "                                     df_stats_series  \n",
       "0                                         (3665, 21)  \n",
       "1                                                  0  \n",
       "2  Series Code                            0.00\n",
       "To...  \n",
       "3         Unit of measure  Notes from original so...  \n",
       "4  Series Code                            3665\n",
       "To...  "
      ]
     },
     "execution_count": 8,
     "metadata": {},
     "output_type": "execute_result"
    }
   ],
   "source": [
    "df_log"
   ]
  },
  {
   "cell_type": "code",
   "execution_count": 9,
   "id": "cfb5fba0",
   "metadata": {},
   "outputs": [
    {
     "data": {
      "application/vnd.jupyter.widget-view+json": {
       "model_id": "33e1d7fb00b64a198e5dcb37bdda4322",
       "version_major": 2,
       "version_minor": 0
      },
      "text/plain": [
       "ToggleButtons(description='Category:', options=('shape', 'duplicated_rows', 'na_rate', 'stats', 'nunique_cat')…"
      ]
     },
     "metadata": {},
     "output_type": "display_data"
    },
    {
     "data": {
      "application/vnd.jupyter.widget-view+json": {
       "model_id": "aa1e71b9f680467d83da51c82f31f1f1",
       "version_major": 2,
       "version_minor": 0
      },
      "text/plain": [
       "ToggleButtons(description='Dataframe:', options=('df_data', 'df_country', 'df_country_series', 'df_foot_note',…"
      ]
     },
     "metadata": {},
     "output_type": "display_data"
    },
    {
     "data": {
      "application/vnd.jupyter.widget-view+json": {
       "model_id": "63c83979b4414393b183585bf9dbb69d",
       "version_major": 2,
       "version_minor": 0
      },
      "text/plain": [
       "Output()"
      ]
     },
     "metadata": {},
     "output_type": "display_data"
    }
   ],
   "source": [
    "# Widgets : Toggle pour log_cat et Toggle pour les colonnes\n",
    "toggle_cat = widgets.ToggleButtons(\n",
    "    options=df_log['log_cat'].values,\n",
    "    description='Category:',\n",
    "    button_style=''\n",
    ")\n",
    "\n",
    "toggle_df = widgets.ToggleButtons(\n",
    "    options=df_log.columns[1:],\n",
    "    description='Dataframe:',\n",
    "    button_style=''\n",
    ")\n",
    "\n",
    "# Output widget pour afficher le résultat\n",
    "out = widgets.Output()\n",
    "\n",
    "# Callback qui combine les deux sélections\n",
    "def update_value(change):\n",
    "    category_name = toggle_cat.value\n",
    "    df_name = toggle_df.value\n",
    "    \n",
    "    with out:\n",
    "        out.clear_output()\n",
    "        try:\n",
    "            valeur = df_log.loc[df_log['log_cat'] == category_name, df_name].iloc[0]\n",
    "            \n",
    "            if isinstance(valeur, pd.Series):\n",
    "                display(valeur.to_frame())\n",
    "            else:\n",
    "                display(valeur)\n",
    "                \n",
    "        except Exception as e:\n",
    "            print(\"Erreur :\", e)\n",
    "\n",
    "# Observer les changements sur les deux widgets\n",
    "toggle_cat.observe(update_value, names='value')\n",
    "toggle_df.observe(update_value, names='value')\n",
    "\n",
    "# Affichage\n",
    "display(toggle_cat, toggle_df, out)"
   ]
  },
  {
   "cell_type": "markdown",
   "id": "e070b6a7",
   "metadata": {},
   "source": [
    "#### b. Suppression des colonnes avec na_rate = 1"
   ]
  },
  {
   "cell_type": "code",
   "execution_count": 10,
   "id": "b4611e3b",
   "metadata": {},
   "outputs": [
    {
     "name": "stdout",
     "output_type": "stream",
     "text": [
      "✅ Pas de doublon pour le couple Pays/Indicateurs dans le df_data\n"
     ]
    }
   ],
   "source": [
    "if df_data.loc[:,['Country Name','Indicator Name']].duplicated().sum() == 0:\n",
    "    print('✅ Pas de doublon pour le couple Pays/Indicateurs dans le df_data')"
   ]
  },
  {
   "cell_type": "code",
   "execution_count": 11,
   "id": "aec94ef0",
   "metadata": {},
   "outputs": [
    {
     "name": "stdout",
     "output_type": "stream",
     "text": [
      "['2017', 'Unnamed: 69', 'Unnamed: 31', 'Unnamed: 3', 'Unnamed: 4', 'Unit of measure', 'Limitations and exceptions', 'Notes from original source', 'General comments', 'Development relevance', 'Other web links', 'Related indicators', 'License Type', 'Unnamed: 20']\n"
     ]
    }
   ],
   "source": [
    "col_to_delete = []\n",
    "\n",
    "for df_name in dic_keys:\n",
    "    temp_df = df_log.loc[df_log['log_cat'] == \"na_rate\", df_name].iloc[0].reset_index()\n",
    "    \n",
    "    #col name\n",
    "    new_col_name = ['col_name','na_rate']\n",
    "    temp_df.columns = new_col_name\n",
    "    temp_df_filtered = temp_df[temp_df['na_rate'] == 1]\n",
    "    col_list = temp_df_filtered['col_name'].astype(str).tolist()\n",
    "    \n",
    "    for col in col_list:\n",
    "        col_to_delete.append(col)\n",
    "\n",
    "print(col_to_delete)"
   ]
  },
  {
   "cell_type": "code",
   "execution_count": 12,
   "id": "b0c02512",
   "metadata": {},
   "outputs": [],
   "source": [
    "col_to_delete_set = set(col_to_delete)\n",
    "\n",
    "for df_name in dic_keys:\n",
    "    col_to_keep = [x for x in dic[df_name].columns if x not in col_to_delete_set]\n",
    "    dic[df_name] = dic[df_name][col_to_keep]"
   ]
  },
  {
   "cell_type": "raw",
   "id": "8a1b00e9",
   "metadata": {},
   "source": [
    "df_data = dic[\"df_data\"].copy()\n",
    "df_country_series = dic[\"df_country_series\"].copy()\n",
    "df_country = dic[\"df_country\"].copy()\n",
    "df_foot_note = dic[\"df_foot_note\"].copy()\n",
    "df_stats_series = dic[\"df_stats_series\"].copy()"
   ]
  },
  {
   "cell_type": "markdown",
   "id": "5a977f2c",
   "metadata": {},
   "source": [
    "### c. Suppression des faux pays"
   ]
  },
  {
   "cell_type": "code",
   "execution_count": 13,
   "id": "d7007155",
   "metadata": {},
   "outputs": [],
   "source": [
    "#from df_country['Short Name'].unique()\n",
    "region_to_delete = ['Arab World','East Asia & Pacific (developing only)',\n",
    "       'East Asia & Pacific (all income levels)',\n",
    "       'Europe & Central Asia (developing only)',\n",
    "       'Europe & Central Asia (all income levels)','Euro area','European Union','High income',\n",
    "       'Heavily indebted poor countries (HIPC)','Latin America & Caribbean (developing only)',\n",
    "       'Least developed countries: UN classification', 'Low income','Lower middle income',\n",
    "       'Low & middle income','Middle East & North Africa (all income levels)','Middle income',\n",
    "       'OECD members','Sub-Saharan Africa (developing only)','Sub-Saharan Africa (all income levels)',\n",
    "       'World']"
   ]
  },
  {
   "cell_type": "code",
   "execution_count": 14,
   "id": "b583fee9",
   "metadata": {},
   "outputs": [],
   "source": [
    "df_region = pd.DataFrame({'Short Name' : region_to_delete})\n",
    "df_region = pd.merge(df_region,df_country.loc[:,['Short Name','Country Code']], how='left', on='Short Name')"
   ]
  },
  {
   "cell_type": "code",
   "execution_count": 15,
   "id": "9b946e4e",
   "metadata": {},
   "outputs": [],
   "source": [
    "dic['df_country_series'] = dic['df_country_series'].rename(columns={'CountryCode' : 'Country Code'})\n",
    "dic['df_foot_note'] = dic['df_foot_note'].rename(columns={'CountryCode' : 'Country Code'})"
   ]
  },
  {
   "cell_type": "code",
   "execution_count": 16,
   "id": "3f9f7979",
   "metadata": {},
   "outputs": [],
   "source": [
    "for df_name in dic_keys:\n",
    "    if df_name != 'df_stats_series':\n",
    "        dic[df_name] = dic[df_name][~dic[df_name]['Country Code'].isin(df_region['Country Code'].unique())]"
   ]
  },
  {
   "cell_type": "markdown",
   "id": "875d3f53-f0dd-43cd-91c1-66bb38898970",
   "metadata": {},
   "source": [
    "#### Critères de recherches. il faudrait que les pays :\n",
    " - aient une accessibilité restreinte du niveau secondaire et universitaire. Soit par un manque d'infrasturcture, soit par manque de personnel, soit réservé à une certaine population (classe sociale, genre...). Car l'objectif étant justement de pouvoir proposer une alternative.\n",
    " - aient une population jeune car in fine ce sont eux les clients finaux.\n",
    " - soient politiquement stables car l'éducation n'est peut-être pas une priorité en période de crise et administrativement cela peut comporter un risque pour la start-up. \n",
    " - soient un minimum développé de sorte à ce que les étudiants puissent se procurer le matériel informatique adéquat."
   ]
  },
  {
   "cell_type": "code",
   "execution_count": 19,
   "id": "e5d8bb28-bd18-4e69-98d2-6d86f481ac17",
   "metadata": {},
   "outputs": [],
   "source": [
    "dic_kpis = {\n",
    "    'School accessibility': {\n",
    "        'topic': {\n",
    "            'Teachers': [\n",
    "                'Teachers in secondary education, both sexes (number)',\n",
    "                'Teachers in tertiary education programmes, both sexes (number)',\n",
    "            ],\n",
    "            'Education Equality': [\n",
    "                'DHS: Secondary completion rate',\n",
    "                'UIS: Total net attendance rate, lower secondary, both sexes (%)',\n",
    "                'MICS: Secondary completion rate'\n",
    "            ],\n",
    "            'Attainment' : [\n",
    "                'Barro-Lee: Percentage of population age 15+ with no education'\n",
    "            ]\n",
    "        }\n",
    "    },\n",
    "    'Demography': {\n",
    "        'topic': {\n",
    "            'Population': [\n",
    "                'Population of the official age for secondary education, both sexes (number)'\n",
    "            ],\n",
    "            'Health: Population: Structure': [\n",
    "                'Population, total'\n",
    "            ],\n",
    "            'Health: Population: Dynamics': [\n",
    "                'Population growth (annual %)'\n",
    "            ]\n",
    "        }\n",
    "    },\n",
    "    'Political' : {\n",
    "        'topic': {\n",
    "            'xxx': [\n",
    "                \n",
    "            ]\n",
    "        }\n",
    "    },\n",
    "    'Economic': {\n",
    "        'topic' : {\n",
    "            'Infrastructure: Communications' : [\n",
    "                'Personal computers (per 100 people)',\n",
    "                'Internet users (per 100 people)'\n",
    "            ]\n",
    "        }\n",
    "    }\n",
    "}\n"
   ]
  },
  {
   "cell_type": "code",
   "execution_count": 20,
   "id": "a6f13787-c63e-4330-aa8f-786be498ce69",
   "metadata": {},
   "outputs": [
    {
     "data": {
      "text/plain": [
       "{'Infrastructure: Communications': ['Personal computers (per 100 people)',\n",
       "  'Internet users (per 100 people)']}"
      ]
     },
     "execution_count": 20,
     "metadata": {},
     "output_type": "execute_result"
    }
   ],
   "source": [
    "dic_kpis['Economic']['topic']"
   ]
  }
 ],
 "metadata": {
  "kernelspec": {
   "display_name": "Python 3 (ipykernel)",
   "language": "python",
   "name": "python3"
  },
  "language_info": {
   "codemirror_mode": {
    "name": "ipython",
    "version": 3
   },
   "file_extension": ".py",
   "mimetype": "text/x-python",
   "name": "python",
   "nbconvert_exporter": "python",
   "pygments_lexer": "ipython3",
   "version": "3.13.7"
  }
 },
 "nbformat": 4,
 "nbformat_minor": 5
}
